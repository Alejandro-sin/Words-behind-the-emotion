{
 "cells": [
  {
   "cell_type": "markdown",
   "metadata": {},
   "source": [
    "## Words behind the emotion\n",
    "\n",
    "\n",
    "Estas notas hacen parte del proces de...\n"
   ]
  },
  {
   "cell_type": "markdown",
   "metadata": {},
   "source": [
    "### Lecturas:\n",
    "\n",
    "Aquí queiro leer los pdf\n",
    "\n",
    "* Revisar si las librerías que usan me permiten extraer "
   ]
  },
  {
   "cell_type": "code",
   "execution_count": 2,
   "metadata": {},
   "outputs": [
    {
     "name": "stdout",
     "output_type": "stream",
     "text": [
      "Collecting pypdf2\n",
      "  Downloading PyPDF2-1.26.0.tar.gz (77 kB)\n",
      "Building wheels for collected packages: pypdf2\n",
      "  Building wheel for pypdf2 (setup.py): started\n",
      "  Building wheel for pypdf2 (setup.py): finished with status 'done'\n",
      "  Created wheel for pypdf2: filename=PyPDF2-1.26.0-py3-none-any.whl size=61087 sha256=cd5b7c03de27dd4f5b59b0dccbd88da48a7b21b0d2086b07968710e75368c4ae\n",
      "  Stored in directory: c:\\users\\jefai\\appdata\\local\\pip\\cache\\wheels\\b1\\1a\\8f\\a4c34be976825a2f7948d0fa40907598d69834f8ab5889de11\n",
      "Successfully built pypdf2\n",
      "Installing collected packages: pypdf2Note: you may need to restart the kernel to use updated packages.\n",
      "\n",
      "Successfully installed pypdf2-1.26.0\n"
     ]
    }
   ],
   "source": [
    "pip install pypdf2"
   ]
  },
  {
   "cell_type": "code",
   "execution_count": 26,
   "metadata": {},
   "outputs": [],
   "source": [
    "#Ruta de mi archivo\n",
    "import PyPDF2\n",
    "import pandas as pd\n"
   ]
  },
  {
   "cell_type": "code",
   "execution_count": 40,
   "metadata": {},
   "outputs": [
    {
     "name": "stderr",
     "output_type": "stream",
     "text": [
      "PdfReadWarning: Xref table not zero-indexed. ID numbers for objects will be corrected. [pdf.py:1736]\n"
     ]
    },
    {
     "data": {
      "text/plain": [
       "<PyPDF2.pdf.PdfFileReader at 0x1cf44e8f610>"
      ]
     },
     "execution_count": 40,
     "metadata": {},
     "output_type": "execute_result"
    }
   ],
   "source": [
    "file_object = open(\"Cartas2.pdf\", \"rb\") \n",
    "data_pdf = PyPDF2.PdfFileReader(file_object)\n",
    "data_pdf"
   ]
  },
  {
   "cell_type": "code",
   "execution_count": 41,
   "metadata": {},
   "outputs": [
    {
     "data": {
      "text/plain": [
       "42"
      ]
     },
     "execution_count": 41,
     "metadata": {},
     "output_type": "execute_result"
    }
   ],
   "source": [
    "data_pdf.numPages"
   ]
  },
  {
   "cell_type": "code",
   "execution_count": 42,
   "metadata": {},
   "outputs": [
    {
     "data": {
      "text/plain": [
       "{'/CreationDate': \"D:20101220110804-03'00'\",\n",
       " '/Subject': 'Es la obra más conocida de Rainer Maria Rilke. ',\n",
       " '/Author': 'Rainer Maria Rilke',\n",
       " '/Creator': 'Adobe InDesign CS5 (7.0)',\n",
       " '/Producer': 'Adobe PDF Library 9.9',\n",
       " '/ModDate': \"D:20101220111157-03'00'\",\n",
       " '/Title': 'Cartas a un joven poeta',\n",
       " '/Trapped': '/False'}"
      ]
     },
     "execution_count": 42,
     "metadata": {},
     "output_type": "execute_result"
    }
   ],
   "source": [
    "data_pdf.documentInfo"
   ]
  },
  {
   "cell_type": "code",
   "execution_count": 43,
   "metadata": {},
   "outputs": [
    {
     "name": "stdout",
     "output_type": "stream",
     "text": [
      "<class 'PyPDF2.pdf.PageObject'>\n"
     ]
    }
   ],
   "source": [
    "page1 = data_pdf.getPage(15)\n",
    "print(type(page1))"
   ]
  },
  {
   "cell_type": "code",
   "execution_count": 39,
   "metadata": {},
   "outputs": [
    {
     "data": {
      "text/plain": [
       "'16LibrosEnRedIVWorpswede, cerca de Bremen, a 16 de julio de 1903\\nHe abandonado París hace unos días, por cierto bastante enfermo y can\\n-sado, para acogerme a esta gran llanura norteña, que con su amplitud, su \\ncalma y su cielo, ha de devolverme la salud. Pero aquí he venido a caer bajo \\nuna lluvia persistente hasta hoy, que es cuando empieza a escampar un \\npoco sobre esta comarca, sin sosiego azotada por los vientos. Aprovecho, \\nestimado señor, este primer momento de claridad, para saludarle.\\nMi querido señor Kappus: he dejado mucho tiempo sin respuesta una carta \\nsuya. No porque la hubiese olvidado. Al contrario: es una de esas cartas \\nque nos agrada releer cuando volvemos a encontrarlas entre otras, y en ella \\n\\nmayo, que seguramente recordará. Cuando la leo, como ahora, en medio \\ndel gran silencio de estas lejanías, su bella inquietud por la vida me causa \\nuna emoción aun más intensa que la que sentí ya en París, donde todo sue\\n-na de otro modo y acaba por perderse, desvaneciéndose entre el enorme \\nestruendo que allí hace retemblar todas las cosas. Aquí, rodeado de un \\nimponente paisaje batido por los vientos que los mares le envían, siento \\nque a esas preguntas e inquietudes, que por sí mismas y allá en sus profun\\n-didades tienen vida propia, nadie puede contestarle. Pues aún los mejores \\nyerran con sus palabras, cuando éstas han de expresar algo en extremo sutil \\ny casi inefable.\\nCreo, sin embargo, que usted no ha de quedar sin solución si sabe atener\\n-se a unas cosas que se parezcan a éstas en que ahora se recrean mis ojos. \\nSi se atiene a la naturaleza, a lo que hay de sencillo en ella; a lo pequeño \\nque apenas se ve y que tan improvisadamente puede llegar a ser grande, \\n\\n\\npobre, entonces todo se tornará más fácil, más armonioso, de algún modo \\nmás avenible. Tal vez no en el ámbito de la razón, que, asombrada, se que\\n-da atrás, pero sí en lo más hondo de su conocimiento, en el constante velar \\nde su alma, en su más íntimo saber.\\n'"
      ]
     },
     "execution_count": 39,
     "metadata": {},
     "output_type": "execute_result"
    }
   ],
   "source": [
    "page1.extractText()"
   ]
  },
  {
   "cell_type": "code",
   "execution_count": 48,
   "metadata": {},
   "outputs": [
    {
     "data": {
      "text/plain": [
       "'ÍNDI\\nCEIntroducción\\n 5I  7II\\n  10III\\n  12IV\\n  16V  21VI\\n  \\n23VII\\n 27VIII\\n 32IX\\n  37X  39Acerca del autor\\n 41Editorial LibrosEnRed\\n 42'"
      ]
     },
     "execution_count": 48,
     "metadata": {},
     "output_type": "execute_result"
    }
   ],
   "source": [
    "# Quiero una función para que me traiga todas lsa pásginas del pdf\n",
    "pages=[]\n",
    "for page in range(data_pdf.numPages):\n",
    "    p = data_pdf.getPage(page)\n",
    "    p = p.extractText()\n",
    "    pages.append(p)\n",
    "\n",
    "pages[3]"
   ]
  },
  {
   "cell_type": "code",
   "execution_count": 49,
   "metadata": {},
   "outputs": [
    {
     "data": {
      "text/plain": [
       "'Cartas a un joven poeta11LibrosEnRedconvertirá en un instrumento serio para incluirse entre los medios con que \\nusted habrá de plasmar su arte.\\nLo otro que yo quería decirle es esto: De todos mis libros, muy pocos me \\nson imprescindibles. En rigor, sólo dos están siempre entre mis cosas, don\\n-dequiera que yo me halle. También aquí los tengo conmigo: la \\nBiblia\\n y las \\nobras del poeta danés Jens Peter Jacobsen. Se me ocurre pensar si usted \\nlas conoce. Puede adquirirlas fácilmente, ya que algunas de ellas han sido \\n\\nde las ﬁEdiciones Reclamﬂ. Procúrese los \\nSeis cuentos\\n de J. P. Jacobsen así co\\n-mo su novela \\nNiels Lyhne\\n, y empiece por leer, en el primer librito, el primer \\ncuento, que lleva por título ﬁMogensﬂ: Le sobrecogerá un mundo; la dicha, \\nla riqueza, la inconcebible grandiosidad de todo un mundo. Permanezca y \\nviva por algún tiempo en estos libros, y aprenda de ellos cuanto le parezca \\ndigno de ser aprendido. Ante todo, ámelos: su cariño le será pagado miles \\ny miles de veces. Y, cualquiera que pueda llegar a ser más adelante el rum\\n-bo de su vida, estoy seguro de que ese amor cruzará siempre la urdimbre \\nde su existencia, como uno de los hilos más importantes en la trama de sus \\nexperiencias, de sus desengaños y de sus alegrías.\\nSi yo he de decirle quien me enseñó algo acerca del crear, de su esencia, de \\nsu profundidad y de cuanto en él hay de eterno, sólo puedo citar dos nom\\n-bres: el del grande, muy grande Jacobsen y el de Auguste Rodin, el escultor \\nsin par entre todos los artistas que viven en la actualidad.\\n\\nSuRainer María Rilke\\n'"
      ]
     },
     "execution_count": 49,
     "metadata": {},
     "output_type": "execute_result"
    }
   ],
   "source": [
    "pages[10]"
   ]
  },
  {
   "cell_type": "markdown",
   "metadata": {},
   "source": [
    "https://realpython.com/sentiment-analysis-python/\n",
    "https://awjuliani.medium.com/exploring-sentiment-in-literature-with-deep-learning-30366aff578e\n",
    "https://github.com/awjuliani/DNN-Sentiment\n",
    "https://realpython.com/python-nltk-sentiment-analysis/"
   ]
  },
  {
   "cell_type": "code",
   "execution_count": null,
   "metadata": {},
   "outputs": [],
   "source": []
  },
  {
   "cell_type": "code",
   "execution_count": null,
   "metadata": {},
   "outputs": [],
   "source": []
  },
  {
   "cell_type": "code",
   "execution_count": null,
   "metadata": {},
   "outputs": [],
   "source": []
  },
  {
   "cell_type": "code",
   "execution_count": null,
   "metadata": {},
   "outputs": [],
   "source": []
  },
  {
   "cell_type": "code",
   "execution_count": null,
   "metadata": {},
   "outputs": [],
   "source": []
  },
  {
   "cell_type": "code",
   "execution_count": null,
   "metadata": {},
   "outputs": [],
   "source": []
  },
  {
   "cell_type": "code",
   "execution_count": null,
   "metadata": {},
   "outputs": [],
   "source": []
  },
  {
   "cell_type": "code",
   "execution_count": null,
   "metadata": {},
   "outputs": [],
   "source": []
  },
  {
   "cell_type": "code",
   "execution_count": null,
   "metadata": {},
   "outputs": [],
   "source": []
  },
  {
   "cell_type": "code",
   "execution_count": null,
   "metadata": {},
   "outputs": [],
   "source": []
  },
  {
   "cell_type": "code",
   "execution_count": null,
   "metadata": {},
   "outputs": [],
   "source": []
  },
  {
   "cell_type": "code",
   "execution_count": null,
   "metadata": {},
   "outputs": [],
   "source": []
  },
  {
   "cell_type": "code",
   "execution_count": null,
   "metadata": {},
   "outputs": [],
   "source": []
  },
  {
   "cell_type": "code",
   "execution_count": null,
   "metadata": {},
   "outputs": [],
   "source": []
  },
  {
   "cell_type": "code",
   "execution_count": null,
   "metadata": {},
   "outputs": [],
   "source": []
  },
  {
   "cell_type": "code",
   "execution_count": null,
   "metadata": {},
   "outputs": [],
   "source": []
  },
  {
   "cell_type": "code",
   "execution_count": null,
   "metadata": {},
   "outputs": [],
   "source": []
  },
  {
   "cell_type": "code",
   "execution_count": null,
   "metadata": {},
   "outputs": [],
   "source": []
  },
  {
   "cell_type": "code",
   "execution_count": null,
   "metadata": {},
   "outputs": [],
   "source": []
  }
 ],
 "metadata": {
  "kernelspec": {
   "display_name": "Python 3",
   "language": "python",
   "name": "python3"
  },
  "language_info": {
   "codemirror_mode": {
    "name": "ipython",
    "version": 3
   },
   "file_extension": ".py",
   "mimetype": "text/x-python",
   "name": "python",
   "nbconvert_exporter": "python",
   "pygments_lexer": "ipython3",
   "version": "3.8.5"
  }
 },
 "nbformat": 4,
 "nbformat_minor": 4
}
